{
 "cells": [
  {
   "cell_type": "markdown",
   "metadata": {},
   "source": [
    "# Get the Data"
   ]
  },
  {
   "cell_type": "markdown",
   "metadata": {},
   "source": [
    "### Import dependencies"
   ]
  },
  {
   "cell_type": "code",
   "execution_count": 79,
   "metadata": {},
   "outputs": [],
   "source": [
    "from bs4 import BeautifulSoup\n",
    "import requests\n",
    "import re\n",
    "import pdb"
   ]
  },
  {
   "cell_type": "markdown",
   "metadata": {},
   "source": [
    "### Utility Functions"
   ]
  },
  {
   "cell_type": "code",
   "execution_count": 2,
   "metadata": {
    "collapsed": true
   },
   "outputs": [],
   "source": [
    "def parse_tag(page, name, class_name):\n",
    "    tag = page.find(name, class_ = class_name)\n",
    "    return(tag.get_text() if tag else None)"
   ]
  },
  {
   "cell_type": "code",
   "execution_count": 3,
   "metadata": {
    "collapsed": true
   },
   "outputs": [],
   "source": [
    "def get_first_match(pattern, string):\n",
    "    parsed = re.findall(pattern, string) if string else None\n",
    "    return(parsed[0] if parsed else None)"
   ]
  },
  {
   "cell_type": "code",
   "execution_count": 76,
   "metadata": {
    "collapsed": true
   },
   "outputs": [],
   "source": [
    "def crawl_course_page(url, output_dict):\n",
    "    course_page = BeautifulSoup(requests.get(url).text, \"lxml\") \n",
    "    course_title = parse_tag(course_page, 'h2', 'course-title') \n",
    "    about = parse_tag(course_page, 'p', 'course-description')\n",
    "    created_by = get_first_match('.\\xa0.\\xa0(.+)', parse_tag(course_page, 'div', 'creator-names'))    \n",
    "    instructors_elements = course_page.find_all('div', class_ = 'instructor-info')\n",
    "    instructors = []\n",
    "    for instructor_element in instructors_elements:\n",
    "        name = parse_tag(instructor_element, 'a', None)\n",
    "        position = get_first_match('.+, (.+)', parse_tag(instructor_element, 'span', None))\n",
    "        department = parse_tag(instructor_element, 'div', 'instructor-bio')\n",
    "        instructors.append({'name':name,'position':position,'department':department})\n",
    "    basic_info_element = course_page.find('table', class_ = 'basic-info-table')\n",
    "    basic_info_element = basic_info_element.find_all('tr') if basic_info_element else []\n",
    "    basic_info = {}\n",
    "    for row in basic_info_element:\n",
    "        header = parse_tag(row, 'span', 'td-title')\n",
    "        header_val = parse_tag(row, 'td', 'td-data')\n",
    "        if header and header_val:\n",
    "            if header == 'User Ratings':\n",
    "                header = 'Average User Ratings'\n",
    "                header_val = get_first_match('([0-9]\\.[0-9])', header_val)\n",
    "            basic_info[header] = header_val\n",
    "    output_dict[course_title] = {'about': about, 'created_by': created_by, 'instructors': instructors, 'basic_info': basic_info}    "
   ]
  },
  {
   "cell_type": "code",
   "execution_count": 77,
   "metadata": {
    "collapsed": true
   },
   "outputs": [],
   "source": [
    "def crawl_page(base_url, search_endpoint, search_term, page, output_dict):\n",
    "    page_results = BeautifulSoup(requests.get(base_url + search_endpoint + search_term + page).text, \"lxml\")\n",
    "    for course in page_results.find_all('a', class_ = 'rc-OfferingCard'):\n",
    "        course_info_link = course.get('href')\n",
    "        if not re.search(pattern='specialization', string=course_info_link):\n",
    "            course_endpoint = get_first_match('(/learn/\\S+)', course_info_link)\n",
    "            if course_endpoint:\n",
    "                crawl_course_page(base_url + course_endpoint, output_dict)            "
   ]
  },
  {
   "cell_type": "code",
   "execution_count": 78,
   "metadata": {},
   "outputs": [],
   "source": [
    "def crawl_courses(base_url, search_endpoint, search_term, num_pages, output_dict):\n",
    "    num_steps = list(range(0, 20*num_pages, 20))\n",
    "    pages = ['' if step == 0 else '&start=' + str(step) for step in num_steps]\n",
    "    for page in pages:\n",
    "        crawl_page(base_url, search_endpoint, search_term, page, output_dict)"
   ]
  },
  {
   "cell_type": "markdown",
   "metadata": {},
   "source": [
    "### Crawl the Course Pages (1 page)"
   ]
  },
  {
   "cell_type": "code",
   "execution_count": 73,
   "metadata": {
    "collapsed": true
   },
   "outputs": [],
   "source": [
    "base = \"https://www.coursera.org\"\n",
    "endpoint = '/courses?languages=en&query='\n",
    "search_term = \"Software+Engineering\""
   ]
  },
  {
   "cell_type": "code",
   "execution_count": 74,
   "metadata": {},
   "outputs": [],
   "source": [
    "courses = {}\n",
    "crawl_courses(base, endpoint, search_term, 1, courses)"
   ]
  }
 ],
 "metadata": {
  "anaconda-cloud": {},
  "kernelspec": {
   "display_name": "Python [default]",
   "language": "python",
   "name": "python3"
  },
  "language_info": {
   "codemirror_mode": {
    "name": "ipython",
    "version": 3
   },
   "file_extension": ".py",
   "mimetype": "text/x-python",
   "name": "python",
   "nbconvert_exporter": "python",
   "pygments_lexer": "ipython3",
   "version": "3.5.2"
  }
 },
 "nbformat": 4,
 "nbformat_minor": 1
}
